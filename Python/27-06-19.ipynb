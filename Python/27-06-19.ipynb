{
 "cells": [
  {
   "cell_type": "code",
   "execution_count": 1,
   "metadata": {},
   "outputs": [
    {
     "name": "stdout",
     "output_type": "stream",
     "text": [
      "file is created succesfully and data is written\n"
     ]
    }
   ],
   "source": [
    "def createfile(filename):\n",
    "    f=open(filename,\"w\")\n",
    "    for i in range(10):\n",
    "        f.write(\"this is %d line\\n\" % i)\n",
    "    print(\"file is created succesfully and data is written\")\n",
    "    f.close()\n",
    "    return\n",
    "createfile(\"file1.txt\")"
   ]
  },
  {
   "cell_type": "code",
   "execution_count": 4,
   "metadata": {},
   "outputs": [
    {
     "name": "stdout",
     "output_type": "stream",
     "text": [
      "file is created succesfully and data is written\n"
     ]
    }
   ],
   "source": [
    "def createfile(filename):\n",
    "    f=open(filename,\"w\")\n",
    "    for i in range(10):\n",
    "        f.write(\"this is %d line\\n\" % i)\n",
    "    print(\"file is created succesfully and data is written\")\n",
    "    f.close()\n",
    "    return\n",
    "createfile(\"file1.txt\")\n"
   ]
  },
  {
   "cell_type": "code",
   "execution_count": 6,
   "metadata": {},
   "outputs": [],
   "source": [
    "def# data to append\n",
    "# function to append the data to existing file\n",
    "def appenddata(filename):\n",
    "    f=open(filename,\"a\")\n",
    "    f.write(\"newline 1\\n\")\n",
    "    f.write(\"newline\")\n",
    "    return\n",
    "appenddata(\"file1.txt\")\n",
    "        "
   ]
  },
  {
   "cell_type": "code",
   "execution_count": 7,
   "metadata": {},
   "outputs": [
    {
     "name": "stdout",
     "output_type": "stream",
     "text": [
      " Volume in drive C has no label.\n",
      " Volume Serial Number is 4EF6-C544\n",
      "\n",
      " Directory of C:\\Users\\HP\n",
      "\n",
      "26-06-2019  22:28    <DIR>          .\n",
      "26-06-2019  22:28    <DIR>          ..\n",
      "21-06-2019  03:11    <DIR>          .anaconda\n",
      "19-06-2019  04:43               234 .bash_history\n",
      "21-06-2019  04:47    <DIR>          .conda\n",
      "21-06-2019  03:14                43 .condarc\n",
      "26-06-2019  21:04    <DIR>          .ipynb_checkpoints\n",
      "21-06-2019  03:15    <DIR>          .ipython\n",
      "21-06-2019  04:39    <DIR>          .jupyter\n",
      "15-06-2019  13:41    <DIR>          3D Objects\n",
      "21-06-2019  03:06    <DIR>          Anaconda3\n",
      "15-06-2019  13:41    <DIR>          Contacts\n",
      "26-06-2019  04:12    <DIR>          Desktop\n",
      "21-06-2019  03:06    <DIR>          Documents\n",
      "25-06-2019  23:49    <DIR>          Downloads\n",
      "15-06-2019  13:41    <DIR>          Favorites\n",
      "26-06-2019  22:28               178 file1.txt\n",
      "15-06-2019  13:41    <DIR>          Links\n",
      "15-06-2019  13:41    <DIR>          Music\n",
      "26-06-2019  21:00    <DIR>          OneDrive\n",
      "15-06-2019  13:43    <DIR>          Pictures\n",
      "15-06-2019  13:41    <DIR>          Saved Games\n",
      "15-06-2019  13:42    <DIR>          Searches\n",
      "26-06-2019  22:28             2,855 Untitled.ipynb\n",
      "15-06-2019  13:41    <DIR>          Videos\n",
      "               4 File(s)          3,310 bytes\n",
      "              21 Dir(s)  122,995,765,248 bytes free\n"
     ]
    }
   ],
   "source": [
    "ls"
   ]
  },
  {
   "cell_type": "code",
   "execution_count": 8,
   "metadata": {},
   "outputs": [
    {
     "name": "stdout",
     "output_type": "stream",
     "text": [
      "0\n"
     ]
    }
   ],
   "source": [
    "# word count using file I/O python\n",
    "def dataAnalysisWordCount(filename,word):\n",
    "    f = open(filename,\"r\")\n",
    "    if f.mode == \"r\":\n",
    "        x = f.read()\n",
    "        lst = x.split()\n",
    "    cnt = lst.count(word)\n",
    "    return cnt\n",
    "print(dataAnalysisWordCount(\"file1.txt\",\"file\"))"
   ]
  },
  {
   "cell_type": "code",
   "execution_count": 19,
   "metadata": {},
   "outputs": [
    {
     "data": {
      "text/plain": [
       "0"
      ]
     },
     "execution_count": 19,
     "metadata": {},
     "output_type": "execute_result"
    }
   ],
   "source": [
    "def upperCaseCount(filename):\n",
    "    cntupper =0\n",
    "    f = open(filename, \"r\")\n",
    "    if f.mode == \"r\":\n",
    "        x = f.read()\n",
    "        lst = list(x)   \n",
    "        for i in lst:\n",
    "            if i.isupper():\n",
    "                cntupper += 1\n",
    "    return cntupper\n",
    "upperCaseCount(\"file1.txt\")"
   ]
  },
  {
   "cell_type": "code",
   "execution_count": 24,
   "metadata": {},
   "outputs": [
    {
     "data": {
      "text/plain": [
       "12"
      ]
     },
     "execution_count": 24,
     "metadata": {},
     "output_type": "execute_result"
    }
   ],
   "source": [
    "def Countlines(filename):\n",
    "    f = open(filename,\"r\")\n",
    "    if f.mode == \"r\":\n",
    "        x =f.read()\n",
    "        lst = x.split(\"\\n\")\n",
    "    return len(lst)\n",
    "Countlines(\"file1.txt\")    \n",
    "    \n",
    "        \n",
    "        "
   ]
  },
  {
   "cell_type": "markdown",
   "metadata": {},
   "source": [
    "### -regular expressions\n",
    "### -pattern matching\n",
    "### -symbolic notation of a pattern\n",
    "### -pattern(RE)represents the set of the values that a given pattern\n",
    "### -0--->9any lowercase characters\n",
    "### -a-z-->anyuppercase characters\n",
    "### -[2468]--->all the single digit multiples of 2\n",
    "### -[0-9]{1} $---> only single digit number\n",
    "### cap symbol is used for start of regular expression\n",
    "### dollar system is used to end of the regular expression\n",
    "### (0-9) {3}$--->regular expressions will accept only three digits \n",
    "### [a-z]{5}$----> it only accepts the characters string that to lower case character\n",
    "\n"
   ]
  },
  {
   "cell_type": "code",
   "execution_count": 3,
   "metadata": {},
   "outputs": [
    {
     "name": "stdout",
     "output_type": "stream",
     "text": [
      "True\n",
      "True\n"
     ]
    }
   ],
   "source": [
    "import re\n",
    "def phonenumbervalidate(phone):\n",
    "    pattern = '^[6-9][0-9]{9}$'\n",
    "    phone = str(phone)\n",
    "    if re.match(pattern,phone):\n",
    "        return True\n",
    "    return False\n",
    "print(phonenumbervalidate(9182755143))\n",
    "print(phonenumbervalidate(8328461010))"
   ]
  },
  {
   "cell_type": "code",
   "execution_count": 4,
   "metadata": {},
   "outputs": [
    {
     "name": "stdout",
     "output_type": "stream",
     "text": [
      "False\n",
      "False\n"
     ]
    }
   ],
   "source": [
    "import re\n",
    "def phonenumbervalidate(phone):\n",
    "    pattern = '^[6-9][0-9]{9}$^[0][6-9][0-9]{9}$[+][9][6-9][0-9]{9}$'\n",
    "    phone = str(phone)\n",
    "    if re.match(pattern,phone):\n",
    "        return True\n",
    "    return False\n",
    "print(phonenumbervalidate(9182755143))\n",
    "print(phonenumbervalidate(8328461010))"
   ]
  },
  {
   "cell_type": "markdown",
   "metadata": {},
   "source": [
    "**user name:\n",
    "           *length will be :[6-18]\n",
    "           *no special chars apart from \n",
    "           *should not begin and end width\n",
    "           *character set : all the digits and lowercase alap\n",
    "**domain name:\n",
    "            *length of domain :[3'18]\n",
    "            *no special characters\n",
    "    "
   ]
  },
  {
   "cell_type": "code",
   "execution_count": 10,
   "metadata": {},
   "outputs": [
    {
     "name": "stdout",
     "output_type": "stream",
     "text": [
      "True\n",
      "False\n"
     ]
    }
   ],
   "source": [
    "import re\n",
    "def validateEmailID(email):\n",
    "    pattern = \"^[0-9a-z][0-9a-z_,]{4,13}[0-9a-z][@][a-z0-9]{3,18}[.][a-z]{2,4}$\"\n",
    "    if re.match(pattern,email):\n",
    "        return True\n",
    "    return False\n",
    "print(validateEmailID(\"rampudisaipriya@gmail.com\"))\n",
    "print(validateEmailID(\"$rampudisaipriya@gmail.com\"))"
   ]
  },
  {
   "cell_type": "code",
   "execution_count": 19,
   "metadata": {},
   "outputs": [
    {
     "data": {
      "text/plain": [
       "100"
      ]
     },
     "execution_count": 19,
     "metadata": {},
     "output_type": "execute_result"
    }
   ],
   "source": [
    "def lowerCaseCount(filename):\n",
    "    cntlower =0\n",
    "    f = open(filename, \"r\")\n",
    "    if f.mode == \"r\":\n",
    "        x = f.read()\n",
    "        lst = list(x)   \n",
    "        for i in lst:\n",
    "            if i.islower():\n",
    "                cntlower += 1\n",
    "    return cntlower\n",
    "lowerCaseCount(\"file2.txt\")"
   ]
  },
  {
   "cell_type": "code",
   "execution_count": 16,
   "metadata": {},
   "outputs": [
    {
     "name": "stdout",
     "output_type": "stream",
     "text": [
      "file is created succesfully and data is written\n"
     ]
    }
   ],
   "source": [
    "def createfile(filename):\n",
    "    f=open(filename,\"w\")\n",
    "    for i in range(10):\n",
    "        f.write(\"this is %d line\\n\" % i)\n",
    "    print(\"file is created succesfully and data is written\")\n",
    "    f.close()\n",
    "    return\n",
    "createfile(\"file2.txt\")"
   ]
  },
  {
   "cell_type": "code",
   "execution_count": 20,
   "metadata": {},
   "outputs": [
    {
     "name": "stdout",
     "output_type": "stream",
     "text": [
      "this is 0 line\n",
      "this is 1 line\n",
      "this is 2 line\n",
      "this is 3 line\n",
      "this is 4 line\n",
      "this is 5 line\n",
      "this is 6 line\n",
      "this is 7 line\n",
      "this is 8 line\n",
      "this is 9 line\n",
      "\n"
     ]
    }
   ],
   "source": [
    "def readFile(filename):\n",
    "    f = open(filename,\"r\")\n",
    "    if f.mode == \"r\":\n",
    "        x=f.read()\n",
    "        print(x)\n",
    "    f.close()\n",
    "    return\n",
    "readFile(\"file2.txt\")"
   ]
  },
  {
   "cell_type": "code",
   "execution_count": null,
   "metadata": {},
   "outputs": [],
   "source": []
  },
  {
   "cell_type": "code",
   "execution_count": null,
   "metadata": {},
   "outputs": [],
   "source": []
  }
 ],
 "metadata": {
  "kernelspec": {
   "display_name": "Python 3",
   "language": "python",
   "name": "python3"
  },
  "language_info": {
   "codemirror_mode": {
    "name": "ipython",
    "version": 3
   },
   "file_extension": ".py",
   "mimetype": "text/x-python",
   "name": "python",
   "nbconvert_exporter": "python",
   "pygments_lexer": "ipython3",
   "version": "3.7.3"
  }
 },
 "nbformat": 4,
 "nbformat_minor": 2
}
