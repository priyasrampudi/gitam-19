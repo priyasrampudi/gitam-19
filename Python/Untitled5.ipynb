{
 "cells": [
  {
   "cell_type": "code",
   "execution_count": 10,
   "metadata": {},
   "outputs": [
    {
     "name": "stdout",
     "output_type": "stream",
     "text": [
      "90\n"
     ]
    }
   ],
   "source": [
    "def printEven(n):\n",
    "    cnt=0;\n",
    "    sum=0;\n",
    "    while(cnt!=n):\n",
    "        if(cnt%2==0):\n",
    "            sum=sum+cnt;\n",
    "        cnt=cnt+1;\n",
    "    return sum;\n",
    "print(printEven(20));"
   ]
  },
  {
   "cell_type": "markdown",
   "metadata": {},
   "source": [
    "## Example function\n",
    "## test cases:\n",
    "## 12.."
   ]
  },
  {
   "cell_type": "code",
   "execution_count": 2,
   "metadata": {},
   "outputs": [
    {
     "name": "stdout",
     "output_type": "stream",
     "text": [
      "1 2 3 4 6 "
     ]
    }
   ],
   "source": [
    "def factorsList(n):\n",
    "    i=1;\n",
    "    while(i!=n):\n",
    "        if(n%i==0):\n",
    "            \n",
    "            print(i,end=\" \");\n",
    "        i=i+1;\n",
    "    return;\n",
    "factorsList(12);"
   ]
  },
  {
   "cell_type": "markdown",
   "metadata": {},
   "source": [
    "## List in python\n",
    "## List can be written in python with square brackets and each item in the list seperated by comma operator----[item1,item2,------itemn]\n",
    "## List can be anything----int,char,float,string,etc\n",
    "## List1=[1,2,3,4]\n",
    "## List2=[\"a\",\"b\"]\n",
    "## List3=[\"Maths\",\"Physics\"]"
   ]
  },
  {
   "cell_type": "code",
   "execution_count": 16,
   "metadata": {},
   "outputs": [
    {
     "name": "stdout",
     "output_type": "stream",
     "text": [
      "[1, 2, 3, 4, 5]\n",
      "1\n"
     ]
    }
   ],
   "source": [
    "list1=[1,2,3,4,5];\n",
    "#enter list\n",
    "print(list1);\n",
    "#list[0]\n",
    "print(list1[0]);"
   ]
  },
  {
   "cell_type": "code",
   "execution_count": 3,
   "metadata": {},
   "outputs": [
    {
     "name": "stdout",
     "output_type": "stream",
     "text": [
      "['sai', 'priya']\n",
      "sai\n"
     ]
    }
   ],
   "source": [
    "list2=[\"sai\",\"priya\"];\n",
    "#enter list\n",
    "print(list2);\n",
    "#list[1]\n",
    "print(list2[0]);"
   ]
  },
  {
   "cell_type": "markdown",
   "metadata": {},
   "source": [
    "list1=[1,2,3,4,5,6]\n",
    "for x in list1:\n",
    "     print(x,end=\"\");\n",
    "print();\n",
    "print(list1[1:-1]);\n",
    "print(list1[2:-2]);\n",
    "print(list1[3:-3]);\n",
    "print(list1[4:-4]);\n",
    "print(list1[5:-5]);\n",
    "print(list1[::2]);\n",
    "print(list1[::3]);\n",
    "print(list1[::4]);\n",
    "print(list1[::-2]);\n",
    "print(list1[::-3]);\n",
    "print(list1[::-4]);\n",
    "print((list1[::-5]);"
   ]
  },
  {
   "cell_type": "code",
   "execution_count": 6,
   "metadata": {},
   "outputs": [
    {
     "name": "stdout",
     "output_type": "stream",
     "text": [
      "1\n",
      "[2, 3, 4, 5]\n",
      "[3, 4]\n",
      "[]\n",
      "[]\n",
      "[]\n",
      "[1, 3, 5]\n",
      "[1, 4]\n",
      "[1, 5]\n",
      "[6, 4, 2]\n",
      "[6, 3]\n",
      "[6, 2]\n",
      "[6, 1]\n",
      "2\n",
      "[2, 3, 4, 5]\n",
      "[3, 4]\n",
      "[]\n",
      "[]\n",
      "[]\n",
      "[1, 3, 5]\n",
      "[1, 4]\n",
      "[1, 5]\n",
      "[6, 4, 2]\n",
      "[6, 3]\n",
      "[6, 2]\n",
      "[6, 1]\n",
      "3\n",
      "[2, 3, 4, 5]\n",
      "[3, 4]\n",
      "[]\n",
      "[]\n",
      "[]\n",
      "[1, 3, 5]\n",
      "[1, 4]\n",
      "[1, 5]\n",
      "[6, 4, 2]\n",
      "[6, 3]\n",
      "[6, 2]\n",
      "[6, 1]\n",
      "4\n",
      "[2, 3, 4, 5]\n",
      "[3, 4]\n",
      "[]\n",
      "[]\n",
      "[]\n",
      "[1, 3, 5]\n",
      "[1, 4]\n",
      "[1, 5]\n",
      "[6, 4, 2]\n",
      "[6, 3]\n",
      "[6, 2]\n",
      "[6, 1]\n",
      "5\n",
      "[2, 3, 4, 5]\n",
      "[3, 4]\n",
      "[]\n",
      "[]\n",
      "[]\n",
      "[1, 3, 5]\n",
      "[1, 4]\n",
      "[1, 5]\n",
      "[6, 4, 2]\n",
      "[6, 3]\n",
      "[6, 2]\n",
      "[6, 1]\n",
      "6\n",
      "[2, 3, 4, 5]\n",
      "[3, 4]\n",
      "[]\n",
      "[]\n",
      "[]\n",
      "[1, 3, 5]\n",
      "[1, 4]\n",
      "[1, 5]\n",
      "[6, 4, 2]\n",
      "[6, 3]\n",
      "[6, 2]\n",
      "[6, 1]\n"
     ]
    }
   ],
   "source": [
    "list1=[1,2,3,4,5,6] \n",
    "for x in list1: \n",
    "    print(x,end=\"\");\n",
    "    print();\n",
    "    print(list1[1:-1]); \n",
    "    print(list1[2:-2]);\n",
    "    print(list1[3:-3]);\n",
    "    print(list1[4:-4]);\n",
    "    print(list1[5:-5]);\n",
    "    print(list1[::2]);\n",
    "    print(list1[::3]);\n",
    "    print(list1[::4]);\n",
    "    print(list1[::-2]); \n",
    "    print(list1[::-3]);\n",
    "    print(list1[::-4]);\n",
    "    print(list1[::-5]);\n",
    "\n",
    "\n",
    "\n",
    "\n"
   ]
  },
  {
   "cell_type": "code",
   "execution_count": 11,
   "metadata": {},
   "outputs": [
    {
     "name": "stdout",
     "output_type": "stream",
     "text": [
      "['manish', 'akki', 'priyanth', 1]\n",
      "['manish', 'akki', 15, 1]\n",
      "['manish', 'akki', 15]\n",
      "['manish', 'Gitam', 15]\n",
      "[1, 2, 3]\n",
      "['manish', 'Gitam', 15, 1, 2, 3]\n"
     ]
    }
   ],
   "source": [
    "list1=[\"manish\",\"akki\",\"priyanth\",1];\n",
    "print(list1);\n",
    "list1[2]=15;#update the list item\n",
    "print(list1);\n",
    "del list1[3];#delete the list item \n",
    "print(list1);\n",
    "list1[1]=\"Gitam\";\n",
    "print(list1);\n",
    "list2=[1,2,3];\n",
    "print(list2);\n",
    "print(list1+list2);# concatination of both thelists"
   ]
  },
  {
   "cell_type": "markdown",
   "metadata": {},
   "source": [
    "## linearsearch"
   ]
  },
  {
   "cell_type": "code",
   "execution_count": 1,
   "metadata": {},
   "outputs": [
    {
     "name": "stdout",
     "output_type": "stream",
     "text": [
      "3 "
     ]
    }
   ],
   "source": [
    "def linearsearch(a,tarItem):\n",
    "    flag=0;\n",
    "    for i in range(len(a)):\n",
    "    if a[i]==tarItem:\n",
    "            print(i,end=\" \")\n",
    "a=[2,15,7,4,9,2,8]\n",
    "linearsearch(a,4)"
   ]
  },
  {
   "cell_type": "code",
   "execution_count": 5,
   "metadata": {},
   "outputs": [
    {
     "name": "stdout",
     "output_type": "stream",
     "text": [
      "2 "
     ]
    }
   ],
   "source": [
    "def linearserch(a,tarItem):\n",
    "    flag=0;\n",
    "    for i in range(len(a)):\n",
    "            if a[i]==tarItem:\n",
    "                flag=flag+1\n",
    "             \n",
    "    print(flag)\n",
    "    \n",
    "a=[2,15,7,4,9,2,8]\n",
    "linearsearch(a,7)\n"
   ]
  },
  {
   "cell_type": "code",
   "execution_count": 4,
   "metadata": {},
   "outputs": [
    {
     "name": "stdout",
     "output_type": "stream",
     "text": [
      "! ! \n",
      "! ! ! ! ! \n",
      "! ! ! ! ! ! ! ! \n"
     ]
    }
   ],
   "source": [
    "def linearsearch(a,tarItem):\n",
    "    for i in range(len(a)):\n",
    "        if a[i]==tarItem:\n",
    "            j=0\n",
    "            while j!=i:\n",
    "                print(\"!\",end=\" \")\n",
    "                j=j+1\n",
    "            print(end=\"\\n\")\n",
    " \n",
    "\n",
    "a=[1,2,6,3,8,6,5,4,6]\n",
    "linearsearch(a,6)"
   ]
  },
  {
   "cell_type": "code",
   "execution_count": null,
   "metadata": {},
   "outputs": [],
   "source": [
    "def linearformattedoutput(a):\n",
    "    for i in range(len(a)):\n",
    "        if i == 0 or (i==len(a)-1):\n",
    "            print(a[i],end=\"\")\n",
    "        elif a[i-1]%2==0 and a[i+1]%2==0\n",
    "        "
   ]
  }
 ],
 "metadata": {
  "kernelspec": {
   "display_name": "Python 3",
   "language": "python",
   "name": "python3"
  },
  "language_info": {
   "codemirror_mode": {
    "name": "ipython",
    "version": 3
   },
   "file_extension": ".py",
   "mimetype": "text/x-python",
   "name": "python",
   "nbconvert_exporter": "python",
   "pygments_lexer": "ipython3",
   "version": "3.7.3"
  }
 },
 "nbformat": 4,
 "nbformat_minor": 2
}
