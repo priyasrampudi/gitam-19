{
 "cells": [
  {
   "cell_type": "markdown",
   "metadata": {},
   "source": [
    "# introduction to opp python\n",
    "### on of the popular approach to solve a programming problem by creating an objects,this is known as object oriented programming \\\n",
    "### 1. inheritance\n",
    "### 2.encapsulation\n",
    "### 3.polymorphism\n",
    "\n",
    "## class:\n",
    "\n",
    "### a class is blueprint of the object or logical entity\n",
    "\n",
    "## object:\n",
    "### blueprint of cxlass or instance of the class or physical entity\n",
    "\n",
    "## methods:\n",
    "### part of class and can be called with"
   ]
  },
  {
   "cell_type": "code",
   "execution_count": 6,
   "metadata": {},
   "outputs": [
    {
     "name": "stdout",
     "output_type": "stream",
     "text": [
      "test() for function\n"
     ]
    }
   ],
   "source": [
    "def test():\n",
    "    print('test() for function')\n",
    "    return\n",
    "test()"
   ]
  },
  {
   "cell_type": "code",
   "execution_count": 8,
   "metadata": {},
   "outputs": [
    {
     "name": "stdout",
     "output_type": "stream",
     "text": [
      "test() for the class and method\n"
     ]
    }
   ],
   "source": [
    "class Demo:\n",
    "    def test(self):\n",
    "        print(\"test() for the class and method\")\n",
    "        return\n",
    "obj= Demo()\n",
    "obj.test()"
   ]
  },
  {
   "cell_type": "code",
   "execution_count": 11,
   "metadata": {},
   "outputs": [
    {
     "data": {
      "text/plain": [
       "120"
      ]
     },
     "execution_count": 11,
     "metadata": {},
     "output_type": "execute_result"
    }
   ],
   "source": [
    "class Demo1:\n",
    "    def fact(self,n):\n",
    "        fact = 1\n",
    "        while(n!=0):\n",
    "            fact=fact*n\n",
    "            n=n-1\n",
    "        return fact\n",
    "p1=Demo1()\n",
    "p1.fact(5)"
   ]
  },
  {
   "cell_type": "code",
   "execution_count": 20,
   "metadata": {},
   "outputs": [
    {
     "name": "stdout",
     "output_type": "stream",
     "text": [
      "300\n"
     ]
    }
   ],
   "source": [
    "class Demo2:\n",
    "    def __init__(self,p1,p2):\n",
    "        self.p1 = p1\n",
    "        self.p2 = p2\n",
    "    def add(self,p1,p2):\n",
    "        return p1 + p2\n",
    "c1= Demo2(10,20)\n",
    "print(c1.add(100,200))"
   ]
  },
  {
   "cell_type": "code",
   "execution_count": 21,
   "metadata": {},
   "outputs": [
    {
     "name": "stdout",
     "output_type": "stream",
     "text": [
      "p1=  10\n",
      "p2=  20\n"
     ]
    }
   ],
   "source": [
    "class Demo2:\n",
    "    def accept(self,p1,p2):\n",
    "        a = p1\n",
    "        b = p2\n",
    "        return\n",
    "    def display(self,p1,p2):\n",
    "        print(\"p1= \",p1)\n",
    "        print(\"p2= \",p2)   \n",
    "c1 = Demo2()\n",
    "c1.accept(10,20)\n",
    "c1.display(10,20)\n",
    "\n"
   ]
  },
  {
   "cell_type": "code",
   "execution_count": 3,
   "metadata": {},
   "outputs": [
    {
     "name": "stdout",
     "output_type": "stream",
     "text": [
      "[[ 1  1  1  1]\n",
      " [ 1  1  1  1]\n",
      " [ 1  1  1 14]\n",
      " [ 1  1  1 16]]\n"
     ]
    }
   ],
   "source": [
    "import numpy as np\n",
    "a=np.matrix(np.ones((4,4),dtype=np.int64))\n",
    "np.asarray(a)[2][3] = 14\n",
    "np.asarray(a)[3][3] = 16 \n",
    "print(a)"
   ]
  },
  {
   "cell_type": "code",
   "execution_count": 6,
   "metadata": {},
   "outputs": [
    {
     "data": {
      "text/plain": [
       "array([1, 2, 3, 4, 5, 6, 7, 8, 9])"
      ]
     },
     "execution_count": 6,
     "metadata": {},
     "output_type": "execute_result"
    }
   ],
   "source": [
    "import numpy as np\n",
    "np.arange(1,10)"
   ]
  },
  {
   "cell_type": "code",
   "execution_count": 7,
   "metadata": {},
   "outputs": [
    {
     "data": {
      "text/plain": [
       "array([ 1, 10, 19, 28, 37, 46, 55, 64, 73, 82, 91])"
      ]
     },
     "execution_count": 7,
     "metadata": {},
     "output_type": "execute_result"
    }
   ],
   "source": [
    "np.arange(1,100,9)"
   ]
  },
  {
   "cell_type": "code",
   "execution_count": 8,
   "metadata": {
    "scrolled": true
   },
   "outputs": [
    {
     "data": {
      "text/plain": [
       "array([ 1,  3,  5,  7,  9, 11, 13, 15, 17, 19, 21, 23])"
      ]
     },
     "execution_count": 8,
     "metadata": {},
     "output_type": "execute_result"
    }
   ],
   "source": [
    "np.arange(2,20,2)\n",
    "np.arange(1,25,2)"
   ]
  },
  {
   "cell_type": "code",
   "execution_count": 12,
   "metadata": {},
   "outputs": [
    {
     "name": "stdout",
     "output_type": "stream",
     "text": [
      "[[1 2 3]\n",
      " [4 5 6]]\n"
     ]
    }
   ],
   "source": [
    "# indexing and slicing of numpy\n",
    "a1 = np.array([(1,2,3),(4,5,6,)])\n",
    "print(a1)"
   ]
  },
  {
   "cell_type": "markdown",
   "metadata": {},
   "source": [
    "a1 = np.array([(1,2,3),(4,5,6)])\n",
    "print(\"first row\",a1[0])"
   ]
  },
  {
   "cell_type": "markdown",
   "metadata": {},
   "source": [
    "a1 = np.array([(1,2,3),(4,5,6)])\n",
    "print(\"second row\",a1[1])"
   ]
  },
  {
   "cell_type": "code",
   "execution_count": 14,
   "metadata": {},
   "outputs": [
    {
     "name": "stdout",
     "output_type": "stream",
     "text": [
      "row and column [[4 5 6]]\n"
     ]
    }
   ],
   "source": [
    "a1 = np.array([(1,2,3),(4,5,6)])\n",
    "print(\"row and column\",a1[1:2])"
   ]
  },
  {
   "cell_type": "markdown",
   "metadata": {},
   "source": [
    "a1 = np.random.normal(5,1,10)\n",
    "print(a1)"
   ]
  },
  {
   "cell_type": "markdown",
   "metadata": {},
   "source": [
    "##  Some Math Operation On Given Random Numbers\n",
    "### min---returns the least number\n",
    "### max---returns the large number \n",
    "### mean---mean\n",
    "### median---median\n",
    "### GD---Gaussian Distribution"
   ]
  },
  {
   "cell_type": "code",
   "execution_count": 11,
   "metadata": {},
   "outputs": [
    {
     "name": "stdout",
     "output_type": "stream",
     "text": [
      "[5.86553291 5.20619445 4.56801154 5.32970583 5.1461319  6.31729079\n",
      " 5.23546741 6.62443686 5.11645238 4.32410811]\n",
      "Min value =  4.324108108752421\n",
      "Max value =  6.6244368570380825\n",
      "Mean value =  5.373333218252728\n",
      "Median value =  5.220830931642739\n"
     ]
    }
   ],
   "source": [
    "import numpy as np\n",
    "a1 = np.random.normal(5,1,10)\n",
    "print(a1)\n",
    "print(\"Min value = \",np.min(a1))\n",
    "print(\"Max value = \",np.max(a1))\n",
    "print(\"Mean value = \",np.mean(a1))\n",
    "print(\"Median value = \",np.median(a1))"
   ]
  },
  {
   "cell_type": "markdown",
   "metadata": {},
   "source": [
    "## pandas basics\n",
    "python is one of the popular programming language for data analysis <br>\n",
    "python is offering the lib called pandas used for importing and analaysing and analaysing pretty much faster and easier\n",
    " \n",
    " pandas data for "
   ]
  },
  {
   "cell_type": "code",
   "execution_count": 16,
   "metadata": {},
   "outputs": [
    {
     "name": "stdout",
     "output_type": "stream",
     "text": [
      "       Name                       EmailID  Moible number Adress\n",
      "0     vandu     rampudisaipriya@gmail.com             11    hyd\n",
      "1    manish   akankshareddy6430@gmail.com             22    hyd\n",
      "2     akkii            priyanth@gmail.com             33    hyd\n",
      "3  priyanth  vustelamanishreddy@gmail.com             44    hyd\n",
      "4      saii  ramchowdhryrampudi@gmail.com             55    hyd\n",
      "5       ram      vandanaayineni@gmail.com             66    hyd\n"
     ]
    }
   ],
   "source": [
    "import pandas as pd\n",
    "dict ={\"Name\": [\"vandu\",\"manish\",\"akkii\",\"priyanth\",\"saii\",\"ram\"],\n",
    "      \"EmailID\":[\"rampudisaipriya@gmail.com\",\"akankshareddy6430@gmail.com\",\"priyanth@gmail.com\",\"vustelamanishreddy@gmail.com\",\"ramchowdhryrampudi@gmail.com\",\"vandanaayineni@gmail.com\"],\n",
    "      \"Moible number\" : [11,22,33,44,55,66],\n",
    "      \"Adress\":[\"hyd\",\"hyd\",\"hyd\",\"hyd\",\"hyd\",\"hyd\"]}\n",
    "b = pd.DataFrame(dict)\n",
    "print(b)"
   ]
  },
  {
   "cell_type": "code",
   "execution_count": null,
   "metadata": {},
   "outputs": [],
   "source": []
  }
 ],
 "metadata": {
  "kernelspec": {
   "display_name": "Python 3",
   "language": "python",
   "name": "python3"
  },
  "language_info": {
   "codemirror_mode": {
    "name": "ipython",
    "version": 3
   },
   "file_extension": ".py",
   "mimetype": "text/x-python",
   "name": "python",
   "nbconvert_exporter": "python",
   "pygments_lexer": "ipython3",
   "version": "3.7.3"
  }
 },
 "nbformat": 4,
 "nbformat_minor": 2
}
